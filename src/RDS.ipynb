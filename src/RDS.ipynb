{
 "cells": [
  {
   "cell_type": "code",
   "execution_count": 10,
   "metadata": {},
   "outputs": [
    {
     "data": {
      "text/plain": [
       "<sqlalchemy.orm.session.Session at 0x1ba0c817010>"
      ]
     },
     "metadata": {},
     "output_type": "display_data"
    }
   ],
   "source": [
    "# Import sqlalchemy\n",
    "from sqlalchemy import create_engine, text\n",
    "from sqlalchemy.orm import sessionmaker\n",
    "import psycopg2\n",
    "import os\n",
    "import pandas as pd\n",
    "import boto3\n",
    "from io import StringIO\n",
    "\n",
    "USERNAME = os.environ.get('RDS_USER_NAME')\n",
    "PASSWORD = os.environ.get('RDS_PASSWORD')\n",
    "HOSTNAME = os.environ.get('RDS_HOSTNAME')\n",
    "DBNAME = os.environ.get('RDS_DBNAME')\n",
    "# Create engine will create a connection between a SQLlite DB and python\n",
    "engine = create_engine(f\"postgresql+psycopg2://{USERNAME}:{PASSWORD}@{HOSTNAME}\", echo=True)\n",
    "Session = sessionmaker(bind = engine)\n",
    "session = Session()\n",
    "display(session)"
   ]
  },
  {
   "cell_type": "code",
   "execution_count": 11,
   "metadata": {},
   "outputs": [
    {
     "name": "stdout",
     "output_type": "stream",
     "text": [
      "kayak_dataset.csv has been import\n",
      "\n",
      "\n"
     ]
    }
   ],
   "source": [
    "s3 = boto3.resource('s3')\n",
    "client = boto3.client('s3')\n",
    "bucket_name = \"kayak-jedha-certification-2023\"\n",
    "object_key = \"kayak_dataset.csv\"\n",
    "csv_obj = client.get_object(Bucket=bucket_name, Key=object_key)\n",
    "csv_string = csv_obj['Body'].read().decode('utf-8')\n",
    "print(f'{object_key} has been import\\n\\n')\n",
    "df_kayak = pd.read_csv(StringIO(csv_string))"
   ]
  },
  {
   "cell_type": "code",
   "execution_count": 12,
   "metadata": {},
   "outputs": [
    {
     "name": "stdout",
     "output_type": "stream",
     "text": [
      "2023-02-05 11:50:43,099 INFO sqlalchemy.engine.Engine select pg_catalog.version()\n",
      "2023-02-05 11:50:43,100 INFO sqlalchemy.engine.Engine [raw sql] {}\n",
      "2023-02-05 11:50:43,143 INFO sqlalchemy.engine.Engine select current_schema()\n",
      "2023-02-05 11:50:43,145 INFO sqlalchemy.engine.Engine [raw sql] {}\n",
      "2023-02-05 11:50:43,160 INFO sqlalchemy.engine.Engine show standard_conforming_strings\n",
      "2023-02-05 11:50:43,161 INFO sqlalchemy.engine.Engine [raw sql] {}\n",
      "2023-02-05 11:50:43,188 INFO sqlalchemy.engine.Engine BEGIN (implicit)\n",
      "2023-02-05 11:50:43,190 INFO sqlalchemy.engine.Engine SELECT pg_catalog.pg_class.relname \n",
      "FROM pg_catalog.pg_class JOIN pg_catalog.pg_namespace ON pg_catalog.pg_namespace.oid = pg_catalog.pg_class.relnamespace \n",
      "WHERE pg_catalog.pg_class.relname = %(table_name)s AND pg_catalog.pg_class.relkind = ANY (ARRAY[%(param_1)s, %(param_2)s, %(param_3)s, %(param_4)s, %(param_5)s]) AND pg_catalog.pg_table_is_visible(pg_catalog.pg_class.oid) AND pg_catalog.pg_namespace.nspname != %(nspname_1)s\n",
      "2023-02-05 11:50:43,191 INFO sqlalchemy.engine.Engine [generated in 0.00307s] {'table_name': 'kayak_dataset', 'param_1': 'r', 'param_2': 'p', 'param_3': 'f', 'param_4': 'v', 'param_5': 'm', 'nspname_1': 'pg_catalog'}\n",
      "2023-02-05 11:50:43,227 INFO sqlalchemy.engine.Engine ROLLBACK\n",
      "2023-02-05 11:50:43,238 INFO sqlalchemy.engine.Engine BEGIN (implicit)\n",
      "2023-02-05 11:50:43,242 INFO sqlalchemy.engine.Engine \n",
      "CREATE TABLE kayak_dataset (\n",
      "\tindex BIGINT, \n",
      "\tcity TEXT, \n",
      "\thotel_img TEXT, \n",
      "\thotel_url TEXT, \n",
      "\thotel_name TEXT, \n",
      "\thotel_description TEXT, \n",
      "\thotel_score TEXT, \n",
      "\thotel_coord TEXT, \n",
      "\thotel_adress TEXT, \n",
      "\tlat FLOAT(53), \n",
      "\tlon FLOAT(53), \n",
      "\tcurr_temp FLOAT(53), \n",
      "\tcurr_weather TEXT, \n",
      "\t\"day+1_temp\" FLOAT(53), \n",
      "\t\"day+1_weather\" TEXT, \n",
      "\t\"day+2_temp\" FLOAT(53), \n",
      "\t\"day+2_weather\" TEXT, \n",
      "\t\"day+3_temp\" FLOAT(53), \n",
      "\t\"day+3_weather\" TEXT, \n",
      "\t\"day+4_temp\" FLOAT(53), \n",
      "\t\"day+4_weather\" TEXT, \n",
      "\t\"day+5_temp\" FLOAT(53), \n",
      "\t\"day+5_weather\" TEXT, \n",
      "\t\"day+6_temp\" FLOAT(53), \n",
      "\t\"day+6_weather\" TEXT, \n",
      "\t\"day+7_temp\" FLOAT(53), \n",
      "\t\"day+7_weather\" TEXT, \n",
      "\tavg_temp FLOAT(53), \n",
      "\tmode_weather BIGINT, \n",
      "\tmain_weather TEXT, \n",
      "\tmain_weather_weight BIGINT\n",
      ")\n",
      "\n",
      "\n",
      "2023-02-05 11:50:43,243 INFO sqlalchemy.engine.Engine [no key 0.00104s] {}\n",
      "2023-02-05 11:50:43,309 INFO sqlalchemy.engine.Engine CREATE INDEX ix_kayak_dataset_index ON kayak_dataset (index)\n",
      "2023-02-05 11:50:43,315 INFO sqlalchemy.engine.Engine [no key 0.00596s] {}\n",
      "2023-02-05 11:50:43,327 INFO sqlalchemy.engine.Engine COMMIT\n",
      "2023-02-05 11:50:43,344 INFO sqlalchemy.engine.Engine BEGIN (implicit)\n",
      "2023-02-05 11:50:43,357 INFO sqlalchemy.engine.Engine INSERT INTO kayak_dataset (index, city, hotel_img, hotel_url, hotel_name, hotel_description, hotel_score, hotel_coord, hotel_adress, lat, lon, curr_temp, curr_weather, \"day+1_temp\", \"day+1_weather\", \"day+2_temp\", \"day+2_weather\", \"day+3_temp\", \"day+3 ... 80439 characters truncated ... 24)s, %(avg_temp__124)s, %(mode_weather__124)s, %(main_weather__124)s, %(main_weather_weight__124)s)\n",
      "2023-02-05 11:50:43,359 INFO sqlalchemy.engine.Engine [generated in 0.00351s (insertmanyvalues)] {'day+7_temp__0': 9.84, 'day+3_temp__0': 7.02, 'day+4_temp__0': 6.28, 'day+2_temp__0': 4.61, 'day+6_weather__0': 'Clear', 'main_weather_weight__0': 1, 'day+1_temp__0': 7.25, 'hotel_img__0': 'https://cf.bstatic.com/xdata/images/hotel/square200/372762081.jpg?k=bd987a8db063ac48750ed6c2738ab193834850e3b57f3a05b5c368f60639b6f4&o=', 'hotel_name__0': 'BEL APPARTEMENT 4Pers RDC/parking/terrasse/ jardin', 'curr_temp__0': 12.12, 'day+1_weather__0': 'Clouds', 'day+6_temp__0': 7.88, 'day+3_weather__0': 'Rain', 'hotel_adress__0': '25 Rue Romain Rolland, 66190 Collioure, France', 'hotel_score__0': '9,6', 'hotel_url__0': 'https://www.booking.com/hotel/fr/bel-appartement-4pers-rdc-parking-terrasse-jardin.fr.html?aid=304142&label=gen173nr-1FCAQoggJCEHNlYXJjaF9jb2xsaW91cm ... (419 characters truncated) ... 471301_356439990_4_0_0&matching_block_id=875471301_356439990_4_0_0&sr_pri_blocks=875471301_356439990_4_0_0__108818&from_beach_sr=1&from=searchresults', 'city__0': 'Collioure', 'main_weather__0': 'Clear', 'day+7_weather__0': 'Clear', 'day+5_temp__0': 9.66, 'day+2_weather__0': 'Rain', 'mode_weather__0': 4, 'index__0': 0, 'hotel_description__0': \"Doté d'une terrasse, le BEL APPARTEMENT 4Pers RDC/parking/terrasse/jardin est situé à Collioure, à moins de 1 km de la plage du Nord et à 13 minutes  ... (351 characters truncated) ...  plage d'Ouille, de la crique Porteil et du château royal de Collioure. L'aéroport le plus proche, celui de Perpignan-Rivesaltes, est situé à 41 km. \", 'day+4_weather__0': 'Rain', 'lon__0': 3.0831554, 'day+5_weather__0': 'Clear', 'lat__0': 42.52505, 'curr_weather__0': 'Clear', 'hotel_coord__0': '42.52836258,3.07816333', 'avg_temp__0': 8.08, 'day+7_temp__1': 9.84, 'day+3_temp__1': 7.02, 'day+4_temp__1': 6.28, 'day+2_temp__1': 4.61, 'day+6_weather__1': 'Clear', 'main_weather_weight__1': 1, 'day+1_temp__1': 7.25, 'hotel_img__1': 'https://cf.bstatic.com/xdata/images/hotel/square200/361614384.jpg?k=d3f00ea8e6e4b912ce685543b5d56b40c5817d7fc34733ac12614e87f86cfcf8&o=', 'hotel_name__1': 'Appartement centre Collioure 63 m² avec terrasse à 3 minutes des plages', 'curr_temp__1': 12.12, 'day+1_weather__1': 'Clouds', 'day+6_temp__1': 7.88, 'day+3_weather__1': 'Rain', 'hotel_adress__1': '6 Rue Berthelot, 66190 Collioure, France', 'hotel_score__1': '9,3', 'hotel_url__1': 'https://www.booking.com/hotel/fr/appartement-centre-collioure-63-m2-avec-terrasse-a-3-minutes-des-plages.fr.html?aid=304142&label=gen173nr-1FCAQoggJC ... (440 characters truncated) ... 6330801_353188185_4_0_0&matching_block_id=856330801_353188185_4_0_0&sr_pri_blocks=856330801_353188185_4_0_0__87360&from_beach_sr=1&from=searchresults', 'city__1': 'Collioure', 'main_weather__1': 'Clear', 'day+7_weather__1': 'Clear' ... 3775 parameters truncated ... 'day+3_weather__123': 'Clear', 'hotel_adress__123': '11 Avenue du 8 Mai 1945, 30700 Uzès, France', 'hotel_score__123': '9,0', 'hotel_url__123': 'https://www.booking.com/hotel/fr/residence-villa-sully-uzes.fr.html?aid=304142&label=gen173nr-1FCAQoggJCDHNlYXJjaF91esOoc0gNWARoTYgBAZgBDbgBBsgBDNgBA ... (374 characters truncated) ... ighted_blocks=906457701_361730556_2_0_0&matching_block_id=906457701_361730556_2_0_0&sr_pri_blocks=906457701_361730556_2_0_0__74970&from=searchresults', 'city__123': 'Uzès', 'main_weather__123': 'Clear', 'day+7_weather__123': 'Clear', 'day+5_temp__123': 6.86, 'day+2_weather__123': 'Rain', 'mode_weather__123': 4, 'index__123': 123, 'hotel_description__123': \"Située à Uzès, à seulement 32 km du parc des expositions, la Résidence Villa Sully Uzès propose un hébergement avec accès à un jardin, une terrasse e ... (254 characters truncated) ...  séjournerez à 38 km de la gare centrale d'Avignon et à 40 km du palais des papes. L'aéroport de Nîmes-Garons, le plus proche, est implanté à 35 km. \", 'day+4_weather__123': 'Clouds', 'lon__123': 4.4196718, 'day+5_weather__123': 'Clouds', 'lat__123': 44.0121279, 'curr_weather__123': 'Clear', 'hotel_coord__123': '44.01384610,4.41262770', 'avg_temp__123': 6.88, 'day+7_temp__124': 9.09, 'day+3_temp__124': 6.25, 'day+4_temp__124': 7.6, 'day+2_temp__124': 3.02, 'day+6_weather__124': 'Clear', 'main_weather_weight__124': 1, 'day+1_temp__124': 5.38, 'hotel_img__124': 'https://cf.bstatic.com/xdata/images/hotel/square200/320308296.jpg?k=8e683d6d549413ac565e16e14a6a7dbaf43b3b3542c5503647e4459531f7ae66&o=', 'hotel_name__124': 'Ma Lou', 'curr_temp__124': 9.02, 'day+1_weather__124': 'Clouds', 'day+6_temp__124': 7.8, 'day+3_weather__124': 'Clear', 'hotel_adress__124': '28 Rue de la Petite Bourgade, 30700 Uzès, France', 'hotel_score__124': '9,6', 'hotel_url__124': 'https://www.booking.com/hotel/fr/ma-lou-uzes.fr.html?aid=304142&label=gen173nr-1FCAQoggJCDHNlYXJjaF91esOoc0gNWARoTYgBAZgBDbgBBsgBDNgBAegBAfgBA4gCAagC ... (359 characters truncated) ... ighted_blocks=775471201_335844271_2_0_0&matching_block_id=775471201_335844271_2_0_0&sr_pri_blocks=775471201_335844271_2_0_0__90400&from=searchresults', 'city__124': 'Uzès', 'main_weather__124': 'Clear', 'day+7_weather__124': 'Clear', 'day+5_temp__124': 6.86, 'day+2_weather__124': 'Rain', 'mode_weather__124': 4, 'index__124': 124, 'hotel_description__124': \"Situé à Uzès, à moins de 31 km du parc des expositions de Nîmes et à 38 km de la gare centrale d'Avignon, le Ma Lou propose des hébergements avec une ... (327 characters truncated) ... uche.,Vous séjournerez à 40 km du palais des papes et de la gare TGV d'Avignon. L'aéroport le plus proche, celui de Nîmes-Garons, est situé à 37 km. \", 'day+4_weather__124': 'Clouds', 'lon__124': 4.4196718, 'day+5_weather__124': 'Clouds', 'lat__124': 44.0121279, 'curr_weather__124': 'Clear', 'hotel_coord__124': '44.00987240,4.41800490', 'avg_temp__124': 6.88}\n",
      "2023-02-05 11:50:43,510 INFO sqlalchemy.engine.Engine COMMIT\n"
     ]
    },
    {
     "data": {
      "text/plain": [
       "125"
      ]
     },
     "execution_count": 12,
     "metadata": {},
     "output_type": "execute_result"
    }
   ],
   "source": [
    "# pushing df s3 to sql db\n",
    "df_kayak.to_sql(\"kayak_dataset\", engine)"
   ]
  },
  {
   "cell_type": "code",
   "execution_count": 13,
   "metadata": {},
   "outputs": [
    {
     "name": "stdout",
     "output_type": "stream",
     "text": [
      "2023-02-05 11:50:43,676 INFO sqlalchemy.engine.Engine BEGIN (implicit)\n",
      "2023-02-05 11:50:43,681 INFO sqlalchemy.engine.Engine \n",
      "    SELECT city,hotel_score,hotel_adress,curr_temp,curr_weather,avg_temp, main_weather\n",
      "    FROM kayak_dataset\n",
      "    ORDER BY main_weather DESC, hotel_score DESC, avg_temp DESC\n",
      "    \n",
      "2023-02-05 11:50:43,684 INFO sqlalchemy.engine.Engine [generated in 0.00299s] {}\n",
      "2023-02-05 11:50:43,728 INFO sqlalchemy.engine.Engine COMMIT\n"
     ]
    }
   ],
   "source": [
    "conn = engine.connect()\n",
    "\n",
    "with engine.begin() as conn:\n",
    "    query = text(\"\"\"\n",
    "    SELECT city,hotel_score,hotel_adress,curr_temp,curr_weather,avg_temp, main_weather\n",
    "    FROM kayak_dataset\n",
    "    ORDER BY main_weather DESC, hotel_score DESC, avg_temp DESC\n",
    "    \"\"\")\n",
    "    # outputing sql to dataframe\n",
    "    df_rds = pd.read_sql_query(query, conn)"
   ]
  },
  {
   "cell_type": "code",
   "execution_count": 15,
   "metadata": {},
   "outputs": [],
   "source": [
    "df_rds.dropna(inplace=True)"
   ]
  },
  {
   "cell_type": "code",
   "execution_count": 16,
   "metadata": {},
   "outputs": [
    {
     "data": {
      "text/html": [
       "<div>\n",
       "<style scoped>\n",
       "    .dataframe tbody tr th:only-of-type {\n",
       "        vertical-align: middle;\n",
       "    }\n",
       "\n",
       "    .dataframe tbody tr th {\n",
       "        vertical-align: top;\n",
       "    }\n",
       "\n",
       "    .dataframe thead th {\n",
       "        text-align: right;\n",
       "    }\n",
       "</style>\n",
       "<table border=\"1\" class=\"dataframe\">\n",
       "  <thead>\n",
       "    <tr style=\"text-align: right;\">\n",
       "      <th></th>\n",
       "      <th>city</th>\n",
       "      <th>hotel_score</th>\n",
       "      <th>hotel_adress</th>\n",
       "      <th>curr_temp</th>\n",
       "      <th>curr_weather</th>\n",
       "      <th>avg_temp</th>\n",
       "      <th>main_weather</th>\n",
       "    </tr>\n",
       "  </thead>\n",
       "  <tbody>\n",
       "    <tr>\n",
       "      <th>9</th>\n",
       "      <td>Saintes-Maries-de-la-Mer</td>\n",
       "      <td>9,9</td>\n",
       "      <td>20 Rue Louis Pasteur, 13460 Les Saintes-Maries...</td>\n",
       "      <td>9.87</td>\n",
       "      <td>Clear</td>\n",
       "      <td>7.90</td>\n",
       "      <td>Clear</td>\n",
       "    </tr>\n",
       "    <tr>\n",
       "      <th>10</th>\n",
       "      <td>Nîmes</td>\n",
       "      <td>9,9</td>\n",
       "      <td>215 Impasse de la Clapeyrole, 30000 Nîmes, France</td>\n",
       "      <td>9.78</td>\n",
       "      <td>Clear</td>\n",
       "      <td>7.80</td>\n",
       "      <td>Clear</td>\n",
       "    </tr>\n",
       "    <tr>\n",
       "      <th>11</th>\n",
       "      <td>Aigues-Mortes</td>\n",
       "      <td>9,9</td>\n",
       "      <td>40 Rue Pasteur, 30220 Aigues-Mortes, France</td>\n",
       "      <td>6.73</td>\n",
       "      <td>Clear</td>\n",
       "      <td>7.64</td>\n",
       "      <td>Clear</td>\n",
       "    </tr>\n",
       "    <tr>\n",
       "      <th>12</th>\n",
       "      <td>Nîmes</td>\n",
       "      <td>9,8</td>\n",
       "      <td>Mas des Esclots Route de Générac, 30900 Nîmes,...</td>\n",
       "      <td>9.78</td>\n",
       "      <td>Clear</td>\n",
       "      <td>7.80</td>\n",
       "      <td>Clear</td>\n",
       "    </tr>\n",
       "    <tr>\n",
       "      <th>13</th>\n",
       "      <td>Aigues-Mortes</td>\n",
       "      <td>9,8</td>\n",
       "      <td>Chemin Grand Carrière, 30740 Le Cailar, France</td>\n",
       "      <td>6.73</td>\n",
       "      <td>Clear</td>\n",
       "      <td>7.64</td>\n",
       "      <td>Clear</td>\n",
       "    </tr>\n",
       "    <tr>\n",
       "      <th>...</th>\n",
       "      <td>...</td>\n",
       "      <td>...</td>\n",
       "      <td>...</td>\n",
       "      <td>...</td>\n",
       "      <td>...</td>\n",
       "      <td>...</td>\n",
       "      <td>...</td>\n",
       "    </tr>\n",
       "    <tr>\n",
       "      <th>120</th>\n",
       "      <td>Nîmes</td>\n",
       "      <td>10</td>\n",
       "      <td>2 Rue Arago, 30000 Nîmes, France</td>\n",
       "      <td>9.78</td>\n",
       "      <td>Clear</td>\n",
       "      <td>7.80</td>\n",
       "      <td>Clear</td>\n",
       "    </tr>\n",
       "    <tr>\n",
       "      <th>121</th>\n",
       "      <td>Aigues-Mortes</td>\n",
       "      <td>10</td>\n",
       "      <td>3 Rue de la Marine, 30240 Le Grau-du-Roi, France</td>\n",
       "      <td>6.73</td>\n",
       "      <td>Clear</td>\n",
       "      <td>7.64</td>\n",
       "      <td>Clear</td>\n",
       "    </tr>\n",
       "    <tr>\n",
       "      <th>122</th>\n",
       "      <td>Aigues-Mortes</td>\n",
       "      <td>10</td>\n",
       "      <td>22 Rue du Port, 34280 La Grande Motte, France</td>\n",
       "      <td>6.73</td>\n",
       "      <td>Clear</td>\n",
       "      <td>7.64</td>\n",
       "      <td>Clear</td>\n",
       "    </tr>\n",
       "    <tr>\n",
       "      <th>123</th>\n",
       "      <td>Aigues-Mortes</td>\n",
       "      <td>10</td>\n",
       "      <td>Résidence mott'land Bat. 6 jumbo. Porte 41. 4è...</td>\n",
       "      <td>6.73</td>\n",
       "      <td>Clear</td>\n",
       "      <td>7.64</td>\n",
       "      <td>Clear</td>\n",
       "    </tr>\n",
       "    <tr>\n",
       "      <th>124</th>\n",
       "      <td>Uzès</td>\n",
       "      <td>10</td>\n",
       "      <td>6 Place de la Plaine, 30700 Montaren-et-Saint-...</td>\n",
       "      <td>9.02</td>\n",
       "      <td>Clear</td>\n",
       "      <td>6.88</td>\n",
       "      <td>Clear</td>\n",
       "    </tr>\n",
       "  </tbody>\n",
       "</table>\n",
       "<p>116 rows × 7 columns</p>\n",
       "</div>"
      ],
      "text/plain": [
       "                         city hotel_score  \\\n",
       "9    Saintes-Maries-de-la-Mer         9,9   \n",
       "10                      Nîmes         9,9   \n",
       "11              Aigues-Mortes         9,9   \n",
       "12                      Nîmes         9,8   \n",
       "13              Aigues-Mortes         9,8   \n",
       "..                        ...         ...   \n",
       "120                     Nîmes          10   \n",
       "121             Aigues-Mortes          10   \n",
       "122             Aigues-Mortes          10   \n",
       "123             Aigues-Mortes          10   \n",
       "124                      Uzès          10   \n",
       "\n",
       "                                          hotel_adress  curr_temp  \\\n",
       "9    20 Rue Louis Pasteur, 13460 Les Saintes-Maries...       9.87   \n",
       "10   215 Impasse de la Clapeyrole, 30000 Nîmes, France       9.78   \n",
       "11         40 Rue Pasteur, 30220 Aigues-Mortes, France       6.73   \n",
       "12   Mas des Esclots Route de Générac, 30900 Nîmes,...       9.78   \n",
       "13      Chemin Grand Carrière, 30740 Le Cailar, France       6.73   \n",
       "..                                                 ...        ...   \n",
       "120                   2 Rue Arago, 30000 Nîmes, France       9.78   \n",
       "121   3 Rue de la Marine, 30240 Le Grau-du-Roi, France       6.73   \n",
       "122      22 Rue du Port, 34280 La Grande Motte, France       6.73   \n",
       "123  Résidence mott'land Bat. 6 jumbo. Porte 41. 4è...       6.73   \n",
       "124  6 Place de la Plaine, 30700 Montaren-et-Saint-...       9.02   \n",
       "\n",
       "    curr_weather  avg_temp main_weather  \n",
       "9          Clear      7.90        Clear  \n",
       "10         Clear      7.80        Clear  \n",
       "11         Clear      7.64        Clear  \n",
       "12         Clear      7.80        Clear  \n",
       "13         Clear      7.64        Clear  \n",
       "..           ...       ...          ...  \n",
       "120        Clear      7.80        Clear  \n",
       "121        Clear      7.64        Clear  \n",
       "122        Clear      7.64        Clear  \n",
       "123        Clear      7.64        Clear  \n",
       "124        Clear      6.88        Clear  \n",
       "\n",
       "[116 rows x 7 columns]"
      ]
     },
     "execution_count": 16,
     "metadata": {},
     "output_type": "execute_result"
    }
   ],
   "source": [
    "df_rds"
   ]
  },
  {
   "cell_type": "code",
   "execution_count": null,
   "metadata": {},
   "outputs": [],
   "source": []
  }
 ],
 "metadata": {
  "kernelspec": {
   "display_name": "venv",
   "language": "python",
   "name": "python3"
  },
  "language_info": {
   "codemirror_mode": {
    "name": "ipython",
    "version": 3
   },
   "file_extension": ".py",
   "mimetype": "text/x-python",
   "name": "python",
   "nbconvert_exporter": "python",
   "pygments_lexer": "ipython3",
   "version": "3.10.8"
  },
  "orig_nbformat": 4,
  "vscode": {
   "interpreter": {
    "hash": "7df6183bff1717da693b249ae1eff6e639e3c9abe7c294f1dae8d9f348278ba4"
   }
  }
 },
 "nbformat": 4,
 "nbformat_minor": 2
}
